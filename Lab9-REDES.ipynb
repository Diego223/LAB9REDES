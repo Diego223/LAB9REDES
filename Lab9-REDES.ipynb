{
 "cells": [
  {
   "cell_type": "markdown",
   "metadata": {},
   "source": [
    "# Lab 9\n",
    "* Diego Crespo 19541\n",
    "* Javier Hernandez 19202"
   ]
  },
  {
   "cell_type": "markdown",
   "metadata": {},
   "source": [
    "## Parte 1 - Filtrado y preprocesamiento"
   ]
  },
  {
   "cell_type": "markdown",
   "metadata": {},
   "source": [
    "1. Cargar librerías y archivos a utilizar"
   ]
  },
  {
   "cell_type": "code",
   "execution_count": 3,
   "metadata": {},
   "outputs": [],
   "source": [
    "import pandas as pd \n",
    "import numpy as np \n",
    "import matplotlib.pyplot as plt \n",
    "import random\n",
    "import json\n",
    "from flare.data_science.features import domain_tld_extract\n"
   ]
  },
  {
   "cell_type": "markdown",
   "metadata": {},
   "source": [
    "2. Cargar los datos"
   ]
  },
  {
   "cell_type": "code",
   "execution_count": 4,
   "metadata": {},
   "outputs": [],
   "source": [
    "DT = [ json.loads(line) \n",
    "            for line in open('data.json', 'r', encoding='utf-8') ]"
   ]
  },
  {
   "cell_type": "markdown",
   "metadata": {},
   "source": [
    "Tráfico inicial"
   ]
  },
  {
   "cell_type": "code",
   "execution_count": 5,
   "metadata": {},
   "outputs": [
    {
     "name": "stdout",
     "output_type": "stream",
     "text": [
      "746909\n"
     ]
    }
   ],
   "source": [
    "print(len(DT))"
   ]
  },
  {
   "cell_type": "code",
   "execution_count": 6,
   "metadata": {},
   "outputs": [
    {
     "data": {
      "text/plain": [
       "[{'timestamp': '2017-07-22T17:33:15.784100-0500',\n",
       "  'flow_id': 283570730437312,\n",
       "  'pcap_cnt': 18519,\n",
       "  'event_type': 'alert',\n",
       "  'vlan': 130,\n",
       "  'src_ip': '192.168.203.200',\n",
       "  'src_port': 2328,\n",
       "  'dest_ip': '192.181.145.109',\n",
       "  'dest_port': 445,\n",
       "  'proto': 'TCP',\n",
       "  'alert': {'action': 'allowed',\n",
       "   'gid': 1,\n",
       "   'signature_id': 2001569,\n",
       "   'rev': 15,\n",
       "   'signature': 'ET SCAN Behavioral Unusual Port 445 traffic Potential Scan or Infection',\n",
       "   'category': 'Misc activity',\n",
       "   'severity': 3}},\n",
       " {'timestamp': '2017-07-22T17:33:16.571273-0500',\n",
       "  'flow_id': 1519048138171115,\n",
       "  'pcap_cnt': 21531,\n",
       "  'event_type': 'ssh',\n",
       "  'vlan': 140,\n",
       "  'src_ip': '192.168.204.60',\n",
       "  'src_port': 62990,\n",
       "  'dest_ip': '192.168.26.254',\n",
       "  'dest_port': 22,\n",
       "  'proto': 'TCP',\n",
       "  'ssh': {'client': {'proto_version': '2.0',\n",
       "    'software_version': 'OpenSSH_5.0'},\n",
       "   'server': {'proto_version': '1.99', 'software_version': 'Cisco-1.25'}}}]"
      ]
     },
     "execution_count": 6,
     "metadata": {},
     "output_type": "execute_result"
    }
   ],
   "source": [
    "DT[0:2]"
   ]
  },
  {
   "cell_type": "markdown",
   "metadata": {},
   "source": [
    "3. Como solo buscamos dominios DGA, solamente nos interesan los registros DNS. Entonces se cargan únicamente aquellos registros en cuya llave se encuentra “DNS”."
   ]
  },
  {
   "cell_type": "code",
   "execution_count": 7,
   "metadata": {},
   "outputs": [],
   "source": [
    "dns_DT = len([x for x in data if 'dns' in x])"
   ]
  },
  {
   "cell_type": "markdown",
   "metadata": {},
   "source": [
    "4. Muestre la nueva cantidad de registros filtrados. Deben ser 21484."
   ]
  },
  {
   "cell_type": "code",
   "execution_count": 8,
   "metadata": {},
   "outputs": [
    {
     "name": "stdout",
     "output_type": "stream",
     "text": [
      "15749\n"
     ]
    }
   ],
   "source": [
    "print(dns_DT)"
   ]
  },
  {
   "cell_type": "markdown",
   "metadata": {},
   "source": [
    "5. Mostrar la información de 2 registros cualesquiera"
   ]
  },
  {
   "cell_type": "code",
   "execution_count": 9,
   "metadata": {},
   "outputs": [
    {
     "data": {
      "text/plain": [
       "[{'timestamp': '2017-07-22T18:29:17.949469-0500',\n",
       "  'flow_id': 645155657710563,\n",
       "  'pcap_cnt': 505770,\n",
       "  'event_type': 'dns',\n",
       "  'vlan': 150,\n",
       "  'src_ip': '192.168.207.4',\n",
       "  'src_port': 53,\n",
       "  'dest_ip': '192.168.205.188',\n",
       "  'dest_port': 34880,\n",
       "  'proto': 'UDP',\n",
       "  'dns': {'type': 'answer',\n",
       "   'id': 49092,\n",
       "   'rcode': 'NXDOMAIN',\n",
       "   'rrname': 'mirrors.tummy.com'}},\n",
       " {'timestamp': '2017-07-22T19:10:22.084580-0500',\n",
       "  'flow_id': 876729718426212,\n",
       "  'pcap_cnt': 2638244,\n",
       "  'event_type': 'dns',\n",
       "  'vlan': 140,\n",
       "  'src_ip': '2001:0dbb:0c18:0014:34fa:4d67:66fe:82e9',\n",
       "  'src_port': 52273,\n",
       "  'dest_ip': '0000:0000:0000:0000:0000:ffff:c0a8:19b1',\n",
       "  'dest_port': 53,\n",
       "  'proto': 'UDP',\n",
       "  'dns': {'type': 'query',\n",
       "   'id': 61944,\n",
       "   'rrname': 'VERSION.BIND',\n",
       "   'rrtype': 'TXT',\n",
       "   'tx_id': 0}}]"
      ]
     },
     "execution_count": 9,
     "metadata": {},
     "output_type": "execute_result"
    }
   ],
   "source": [
    "dns_DT = [x for x in DT if 'dns' in x]\n",
    "random.sample(dns_DT, 2)"
   ]
  },
  {
   "cell_type": "markdown",
   "metadata": {},
   "source": [
    "6. Como la data consiste en json anidados, se utiliza la característica json_normalize para normalizar la información y asignarla en un dataframe."
   ]
  },
  {
   "cell_type": "code",
   "execution_count": 10,
   "metadata": {},
   "outputs": [],
   "source": [
    "DTnorm = pd.json_normalize(DT)"
   ]
  },
  {
   "cell_type": "markdown",
   "metadata": {},
   "source": [
    "7. Como estamos buscando dominios DGA, se filtran los registros DNS para aquellos registros tipo A (son aquellos que mantienen una dirección IP asociada a un dominio), se debió bajar la cantidad a 2849 registros."
   ]
  },
  {
   "cell_type": "code",
   "execution_count": 11,
   "metadata": {},
   "outputs": [
    {
     "data": {
      "text/html": [
       "<div>\n",
       "<style scoped>\n",
       "    .dataframe tbody tr th:only-of-type {\n",
       "        vertical-align: middle;\n",
       "    }\n",
       "\n",
       "    .dataframe tbody tr th {\n",
       "        vertical-align: top;\n",
       "    }\n",
       "\n",
       "    .dataframe thead th {\n",
       "        text-align: right;\n",
       "    }\n",
       "</style>\n",
       "<table border=\"1\" class=\"dataframe\">\n",
       "  <thead>\n",
       "    <tr style=\"text-align: right;\">\n",
       "      <th></th>\n",
       "      <th>dns.rrname</th>\n",
       "      <th>dns.rrtype</th>\n",
       "    </tr>\n",
       "  </thead>\n",
       "  <tbody>\n",
       "    <tr>\n",
       "      <th>2</th>\n",
       "      <td>api.wunderground.com</td>\n",
       "      <td>A</td>\n",
       "    </tr>\n",
       "    <tr>\n",
       "      <th>38</th>\n",
       "      <td>stork79.dropbox.com</td>\n",
       "      <td>A</td>\n",
       "    </tr>\n",
       "    <tr>\n",
       "      <th>39</th>\n",
       "      <td>hpca-tier2.office.aol.com.ad.aol.aoltw.net</td>\n",
       "      <td>A</td>\n",
       "    </tr>\n",
       "    <tr>\n",
       "      <th>43</th>\n",
       "      <td>api.wunderground.com</td>\n",
       "      <td>A</td>\n",
       "    </tr>\n",
       "    <tr>\n",
       "      <th>44</th>\n",
       "      <td>safebrowsing.clients.google.com.home</td>\n",
       "      <td>A</td>\n",
       "    </tr>\n",
       "    <tr>\n",
       "      <th>...</th>\n",
       "      <td>...</td>\n",
       "      <td>...</td>\n",
       "    </tr>\n",
       "    <tr>\n",
       "      <th>714913</th>\n",
       "      <td>secure.informaction.com.hsd1.pa.comcast.net</td>\n",
       "      <td>A</td>\n",
       "    </tr>\n",
       "    <tr>\n",
       "      <th>715127</th>\n",
       "      <td>192.168.22.201:.stayonline.net</td>\n",
       "      <td>A</td>\n",
       "    </tr>\n",
       "    <tr>\n",
       "      <th>715804</th>\n",
       "      <td>wpad.aol.aoltw.net</td>\n",
       "      <td>A</td>\n",
       "    </tr>\n",
       "    <tr>\n",
       "      <th>715910</th>\n",
       "      <td>client-software.real.com</td>\n",
       "      <td>A</td>\n",
       "    </tr>\n",
       "    <tr>\n",
       "      <th>716751</th>\n",
       "      <td>en-us.start3.mozilla.com</td>\n",
       "      <td>A</td>\n",
       "    </tr>\n",
       "  </tbody>\n",
       "</table>\n",
       "<p>2849 rows × 2 columns</p>\n",
       "</div>"
      ],
      "text/plain": [
       "                                         dns.rrname dns.rrtype\n",
       "2                              api.wunderground.com          A\n",
       "38                              stork79.dropbox.com          A\n",
       "39       hpca-tier2.office.aol.com.ad.aol.aoltw.net          A\n",
       "43                             api.wunderground.com          A\n",
       "44             safebrowsing.clients.google.com.home          A\n",
       "...                                             ...        ...\n",
       "714913  secure.informaction.com.hsd1.pa.comcast.net          A\n",
       "715127               192.168.22.201:.stayonline.net          A\n",
       "715804                           wpad.aol.aoltw.net          A\n",
       "715910                     client-software.real.com          A\n",
       "716751                     en-us.start3.mozilla.com          A\n",
       "\n",
       "[2849 rows x 2 columns]"
      ]
     },
     "execution_count": 11,
     "metadata": {},
     "output_type": "execute_result"
    }
   ],
   "source": [
    "arec = DTnorm[DTnorm['dns.rrtype']==('A')][['dns.rrname','dns.rrtype']]\n",
    "arec"
   ]
  },
  {
   "cell_type": "code",
   "execution_count": 12,
   "metadata": {},
   "outputs": [
    {
     "name": "stdout",
     "output_type": "stream",
     "text": [
      "Numero de registros A:  2849\n"
     ]
    }
   ],
   "source": [
    "print(\"Numero de registros A: \", len(arec))"
   ]
  },
  {
   "cell_type": "markdown",
   "metadata": {},
   "source": [
    "8. Filtrar los dominios únicos y asignarlos a un dataframe. Debe obtener 177 registros únicos."
   ]
  },
  {
   "cell_type": "code",
   "execution_count": 13,
   "metadata": {},
   "outputs": [
    {
     "name": "stdout",
     "output_type": "stream",
     "text": [
      "Numero de registros A unicos:  177\n"
     ]
    }
   ],
   "source": [
    "uniquer = arec['dns.rrname'].unique()\n",
    "print(\"Numero de registros A unicos: \", len(uniquer))"
   ]
  },
  {
   "cell_type": "code",
   "execution_count": 14,
   "metadata": {},
   "outputs": [
    {
     "data": {
      "text/plain": [
       "['api.wunderground.com',\n",
       " 'stork79.dropbox.com',\n",
       " 'hpca-tier2.office.aol.com.ad.aol.aoltw.net',\n",
       " 'safebrowsing.clients.google.com.home',\n",
       " 'fxfeeds.mozilla.com',\n",
       " 'www.metasploit.com',\n",
       " 'aolmtcmxm03.office.aol.com',\n",
       " 'aolmtcmxm02.office.aol.com.ad.aol.aoltw.net',\n",
       " 'aolmtcmxm02.office.aol.com',\n",
       " 'hpca-tier2.office.aol.com',\n",
       " 'aolmtcmxm03.office.aol.com.ad.aol.aoltw.net',\n",
       " 'aolmtcmxm04.office.aol.com',\n",
       " 'safebrowsing.clients.google.com',\n",
       " 'wpad.home',\n",
       " 'safebrowsing.clients.google.com.stayonline.net',\n",
       " 'aolmtcmxm04.office.aol.com.ad.aol.aoltw.net',\n",
       " 'AOLDTCMA04.ad.aol.aoltw.net.office.aol.com',\n",
       " 'AOLDTCMA04.office.aol.com',\n",
       " '192.168.22.110phpmyadmin',\n",
       " 'secure.informaction.com',\n",
       " 'secure.informaction.com.localdomain',\n",
       " 'safebrowsing.clients.google.com.localdomain',\n",
       " 'ueip.vmware.com',\n",
       " 'en-us.fxfeeds.mozilla.com',\n",
       " '192.168.22.110phpmyadmin.localdomain',\n",
       " 'time.windows.com',\n",
       " 'softwareupdate.vmware.com',\n",
       " 'proxim.ntkrnlpa.info',\n",
       " 'portswigger.net',\n",
       " 'www.offensive-security.com',\n",
       " 'www.offensive-security.com.stayonline.net',\n",
       " 'www.stopbadware.org',\n",
       " 'AOLDTCMA04.ad.aol.aoltw.net',\n",
       " 'gg.arrancar.org',\n",
       " 'www.sql-ledger.org',\n",
       " 'www.backtrack-linux.org',\n",
       " 'www.backtrack-linux.org.stayonline.net',\n",
       " 'en-us.start3.mozilla.com',\n",
       " 'www.theanime.cn',\n",
       " 'www.theanime.cn. ',\n",
       " 'wpad.aol.aoltw.net',\n",
       " 'wpad.aoltw.net',\n",
       " 'tools.google.com.ad.aol.aoltw.net',\n",
       " 'safebrowsing.clients.google.com.hackerlabs.vpn',\n",
       " 'secure.informaction.com.stayonline.net',\n",
       " 'wpad.ad.aol.aoltw.net',\n",
       " 'knoa-coll.ops.aol.com',\n",
       " 'knoa-coll.ops.aol.com.ad.aol.aoltw.net',\n",
       " 'www.phpmyadmin.net',\n",
       " 'tools.google.com',\n",
       " 'toolbarqueries.clients.google.com',\n",
       " 'teredo.ipv6.microsoft.com',\n",
       " 'secure.informaction.com.home',\n",
       " 'toolbarqueries.clients.google.com.ad.aol.aoltw.net',\n",
       " 'secure.informaction.com.hsd1.pa.comcast.net',\n",
       " 'clients1.google.com',\n",
       " 'clients1.google.com.ad.aol.aoltw.net',\n",
       " 'ntp.ubuntu.com',\n",
       " 'en-us.www.mozilla.com',\n",
       " 'data.alexa.com',\n",
       " 'www.postgresql.org',\n",
       " 'sourceforge.net',\n",
       " 'www.freepbx.org',\n",
       " 'secure.informaction.com.hackerlabs.vpn',\n",
       " 'www.bigflickrfeed.com',\n",
       " 'www.gnu.org',\n",
       " 'wpad',\n",
       " 'safebrowsing.clients.google.com.lan',\n",
       " 'www.google.com',\n",
       " 'safebrowsing.clients.google.com.hsd1.pa.comcast.net',\n",
       " 'phppgadmin.sourceforge.net',\n",
       " '\"192.168.206.56\"',\n",
       " 'freepbx.org',\n",
       " 'erp.acunetix.com',\n",
       " 'www.acunetix.com',\n",
       " 'go.microsoft.com',\n",
       " 'download.windowsupdate.com',\n",
       " 'www.update.microsoft.com',\n",
       " 'api.flickr.com',\n",
       " 'widgets.alexa.com',\n",
       " 'download.microsoft.com',\n",
       " 'safebrowsing.clients.google.com.office.aol.com',\n",
       " 'www.malwarecity.com',\n",
       " 'api.facebook.com',\n",
       " 'www.sql-ledger.org.hsd1.pa.comcast.net',\n",
       " 'www.offensive-security.com.hsd1.pa.comcast.net',\n",
       " 'www.securityfocus.com',\n",
       " 'sync.xmarks.com',\n",
       " '192.168.26-27.0',\n",
       " 'www.cakephp.org',\n",
       " 'ky.hec.net',\n",
       " 'google.com',\n",
       " 'mirrors.adams.net',\n",
       " 'mirror.its.uidaho.edu',\n",
       " 'mirrors.cat.pdx.edu',\n",
       " 'mirror.clarkson.edu',\n",
       " 'mirror.rackspace.com',\n",
       " 'mirrors.ecvps.com',\n",
       " 'centos.cs.wisc.edu',\n",
       " 'centos.mirror.facebook.net',\n",
       " 'mirrors.easynews.com',\n",
       " 'mirrors.bluehost.com',\n",
       " 'centos.mirror.netriplex.com',\n",
       " 'mirror.stanford.edu',\n",
       " 'mirrors.tummy.com',\n",
       " 'mirror.ash.fastserv.com',\n",
       " 'mirrors.kernel.org',\n",
       " 'mirror.hmc.edu',\n",
       " 'mirrors.liquidweb.com',\n",
       " 'mirror.5ninesolutions.com',\n",
       " 'mirror.san.fastserv.com',\n",
       " 'updates.interworx.info',\n",
       " 'ftp.wallawalla.edu',\n",
       " 'mirror.sanctuaryhost.com',\n",
       " 'mirror.team-cymru.org',\n",
       " 'mirror.umoss.org',\n",
       " 'mirrors.gigenet.com',\n",
       " 'mirrors.xmission.com',\n",
       " 'repo.genomics.upenn.edu',\n",
       " 'centos.mirrors.tds.net',\n",
       " 'mirror.nyi.net',\n",
       " 'mirror.atlantic.net',\n",
       " 'ftp.usf.edu',\n",
       " 'mirror.rocketinternet.net',\n",
       " 'mirrors.rit.edu',\n",
       " 'clients5.google.com',\n",
       " 'FL',\n",
       " 'www.apple.com',\n",
       " 'internalcheck.apple.com',\n",
       " 'cloud.xmarks.com',\n",
       " 'www.metasploit.com.office.aol.com',\n",
       " 'saruman',\n",
       " 'clients2.google.com',\n",
       " '192.168.21.1201.stayonline.net',\n",
       " 'clients2.google.com.ad.aol.aoltw.net',\n",
       " '192.168.21.1201',\n",
       " '',\n",
       " 'fileservices.me.com',\n",
       " 'configuration.apple.com',\n",
       " 'r1s6i7.connectivity.me.com',\n",
       " 'images.apple.com',\n",
       " 'news.google.com',\n",
       " 'gdata.youtube.com',\n",
       " 'aosnotify.me.com',\n",
       " 'dns.msftncsi.com',\n",
       " 'kodapp.com',\n",
       " 'rc.threatspace.net',\n",
       " 'www.msftncsi.com',\n",
       " 'ul.backblaze.com',\n",
       " 'www.social-engineer.org',\n",
       " 'activex.microsoft.com',\n",
       " 'whitecell.localdomain',\n",
       " 'www.arduino.cc',\n",
       " 'secure.informaction.com.office.aol.com',\n",
       " 'www.mac.com',\n",
       " 'gfe.nvidia.com',\n",
       " 'addons.mozilla.org',\n",
       " 'versioncheck.addons.mozilla.org',\n",
       " 'idisk.mac.com',\n",
       " 'www.nagios.org',\n",
       " 'vtlfccmfxlkgifuf.com',\n",
       " 'linkhelp.clients.google.com.ad.aol.aoltw.net',\n",
       " 'update.macromates.com',\n",
       " '1922.168.22.254',\n",
       " 'linkhelp.clients.google.com',\n",
       " '1922.168.22.254.home',\n",
       " '192.168.21-28.0',\n",
       " 'ejfodfmfxlkgifuf.xyz',\n",
       " '192.168.21-28.0.home',\n",
       " '192.168.22.201:',\n",
       " 'aoldtcmds01.office.aol.com',\n",
       " 'aoldtcmds01.office.aol.com.ad.aol.aoltw.net',\n",
       " 'ntp.ubuntu.com.localdomain',\n",
       " 'redir.metaservices.microsoft.com',\n",
       " 'ocsp.verisign.com',\n",
       " '192.168.22.201:.stayonline.net',\n",
       " 'client-software.real.com']"
      ]
     },
     "execution_count": 14,
     "metadata": {},
     "output_type": "execute_result"
    }
   ],
   "source": [
    "uniquer.tolist()"
   ]
  },
  {
   "cell_type": "markdown",
   "metadata": {},
   "source": [
    "9. Del dataframe de dominios únicos de tipo A, obtener el TLD (top level domain) utilizando Flare\n",
    "como una columna nueva llamada domain_tld, y eliminar todas las demás columnas."
   ]
  },
  {
   "cell_type": "code",
   "execution_count": 15,
   "metadata": {},
   "outputs": [],
   "source": [
    "df = pd.DataFrame(uniquer, columns=['domain'])"
   ]
  },
  {
   "cell_type": "code",
   "execution_count": 16,
   "metadata": {},
   "outputs": [],
   "source": [
    "domain = []\n",
    "dnsDT = df.reset_index()\n",
    "for col, row in dnsDT.iterrows():\n",
    "    domain.append(domain_extract(row['domain']))\n",
    "\n",
    "dnsDT['domain_tld'] = domain"
   ]
  },
  {
   "cell_type": "code",
   "execution_count": 17,
   "metadata": {},
   "outputs": [
    {
     "data": {
      "text/html": [
       "<div>\n",
       "<style scoped>\n",
       "    .dataframe tbody tr th:only-of-type {\n",
       "        vertical-align: middle;\n",
       "    }\n",
       "\n",
       "    .dataframe tbody tr th {\n",
       "        vertical-align: top;\n",
       "    }\n",
       "\n",
       "    .dataframe thead th {\n",
       "        text-align: right;\n",
       "    }\n",
       "</style>\n",
       "<table border=\"1\" class=\"dataframe\">\n",
       "  <thead>\n",
       "    <tr style=\"text-align: right;\">\n",
       "      <th></th>\n",
       "      <th>domain_tld</th>\n",
       "    </tr>\n",
       "  </thead>\n",
       "  <tbody>\n",
       "    <tr>\n",
       "      <th>0</th>\n",
       "      <td>wunderground.com</td>\n",
       "    </tr>\n",
       "    <tr>\n",
       "      <th>1</th>\n",
       "      <td>dropbox.com</td>\n",
       "    </tr>\n",
       "    <tr>\n",
       "      <th>2</th>\n",
       "      <td>aoltw.net</td>\n",
       "    </tr>\n",
       "    <tr>\n",
       "      <th>3</th>\n",
       "      <td>safebrowsing.clients.google.com.home</td>\n",
       "    </tr>\n",
       "    <tr>\n",
       "      <th>4</th>\n",
       "      <td>mozilla.com</td>\n",
       "    </tr>\n",
       "  </tbody>\n",
       "</table>\n",
       "</div>"
      ],
      "text/plain": [
       "                             domain_tld\n",
       "0                      wunderground.com\n",
       "1                           dropbox.com\n",
       "2                             aoltw.net\n",
       "3  safebrowsing.clients.google.com.home\n",
       "4                           mozilla.com"
      ]
     },
     "execution_count": 17,
     "metadata": {},
     "output_type": "execute_result"
    }
   ],
   "source": [
    "dnsDT = dnsDT[['domain_tld']]\n",
    "dnsDT.head()"
   ]
  },
  {
   "cell_type": "markdown",
   "metadata": {},
   "source": [
    "10. Buscar y eliminar un dominio que es un carácter vacío ‘’. "
   ]
  },
  {
   "cell_type": "markdown",
   "metadata": {},
   "source": [
    "También elimine los siguientes\n",
    "dominios:\n",
    "a. 192.168.22.110phpmyadmin\n",
    "\n",
    "b. 192.168.22.110phpmyadmin.localdomain\n",
    "\n",
    "c. \"192.168.206.56\"\n",
    "\n",
    "d. 192.168.26-27.0\n",
    "\n",
    "e. 192.168.21.1201\n",
    "\n",
    "f. 1922.168.22.254\n",
    "\n",
    "g. 1922.168.22.254.home\n",
    "\n",
    "h. 192.168.21-28.0.home\n",
    "\n",
    "i. 192.168.22.201:\n",
    "\n",
    "j. 192.168.22.201:.stayonline.net"
   ]
  },
  {
   "cell_type": "code",
   "execution_count": 18,
   "metadata": {},
   "outputs": [],
   "source": [
    "remove = ['', ' ', '192.168.22.110phpmyadmin', '192.168.22.110phpmyadmin.localdomain', '\"192.168.206.56\"', '192.168.26-27.0', '192.168.21.1201', '1922.168.22.254', '1922.168.22.254.home', '192.168.21-28.0.home', '192.168.22.201:', '192.168.22.201:.stayonline.net']\n",
    "clean = dnsDT[~dnsDT['domain_tld'].isin(remove)]"
   ]
  },
  {
   "cell_type": "code",
   "execution_count": 19,
   "metadata": {},
   "outputs": [],
   "source": [
    "clean = clean.drop_duplicates(subset=['domain_tld'])"
   ]
  },
  {
   "cell_type": "code",
   "execution_count": 20,
   "metadata": {},
   "outputs": [
    {
     "data": {
      "text/html": [
       "<div>\n",
       "<style scoped>\n",
       "    .dataframe tbody tr th:only-of-type {\n",
       "        vertical-align: middle;\n",
       "    }\n",
       "\n",
       "    .dataframe tbody tr th {\n",
       "        vertical-align: top;\n",
       "    }\n",
       "\n",
       "    .dataframe thead th {\n",
       "        text-align: right;\n",
       "    }\n",
       "</style>\n",
       "<table border=\"1\" class=\"dataframe\">\n",
       "  <thead>\n",
       "    <tr style=\"text-align: right;\">\n",
       "      <th></th>\n",
       "      <th>domain_tld</th>\n",
       "    </tr>\n",
       "  </thead>\n",
       "  <tbody>\n",
       "    <tr>\n",
       "      <th>0</th>\n",
       "      <td>wunderground.com</td>\n",
       "    </tr>\n",
       "    <tr>\n",
       "      <th>1</th>\n",
       "      <td>dropbox.com</td>\n",
       "    </tr>\n",
       "    <tr>\n",
       "      <th>2</th>\n",
       "      <td>aoltw.net</td>\n",
       "    </tr>\n",
       "    <tr>\n",
       "      <th>3</th>\n",
       "      <td>safebrowsing.clients.google.com.home</td>\n",
       "    </tr>\n",
       "    <tr>\n",
       "      <th>4</th>\n",
       "      <td>mozilla.com</td>\n",
       "    </tr>\n",
       "    <tr>\n",
       "      <th>...</th>\n",
       "      <td>...</td>\n",
       "    </tr>\n",
       "    <tr>\n",
       "      <th>166</th>\n",
       "      <td>192.168.21-28.0</td>\n",
       "    </tr>\n",
       "    <tr>\n",
       "      <th>167</th>\n",
       "      <td>ejfodfmfxlkgifuf.xyz</td>\n",
       "    </tr>\n",
       "    <tr>\n",
       "      <th>172</th>\n",
       "      <td>ntp.ubuntu.com.localdomain</td>\n",
       "    </tr>\n",
       "    <tr>\n",
       "      <th>174</th>\n",
       "      <td>verisign.com</td>\n",
       "    </tr>\n",
       "    <tr>\n",
       "      <th>176</th>\n",
       "      <td>real.com</td>\n",
       "    </tr>\n",
       "  </tbody>\n",
       "</table>\n",
       "<p>102 rows × 1 columns</p>\n",
       "</div>"
      ],
      "text/plain": [
       "                               domain_tld\n",
       "0                        wunderground.com\n",
       "1                             dropbox.com\n",
       "2                               aoltw.net\n",
       "3    safebrowsing.clients.google.com.home\n",
       "4                             mozilla.com\n",
       "..                                    ...\n",
       "166                       192.168.21-28.0\n",
       "167                  ejfodfmfxlkgifuf.xyz\n",
       "172            ntp.ubuntu.com.localdomain\n",
       "174                          verisign.com\n",
       "176                              real.com\n",
       "\n",
       "[102 rows x 1 columns]"
      ]
     },
     "execution_count": 20,
     "metadata": {},
     "output_type": "execute_result"
    }
   ],
   "source": [
    "clean"
   ]
  },
  {
   "cell_type": "markdown",
   "metadata": {},
   "source": [
    "11. Obtener los TLD únicos. Debe obtener 102 registros."
   ]
  },
  {
   "cell_type": "code",
   "execution_count": 21,
   "metadata": {},
   "outputs": [
    {
     "name": "stdout",
     "output_type": "stream",
     "text": [
      "TLD unicos:  102\n"
     ]
    }
   ],
   "source": [
    "print(\"TLD unicos: \", len(clean))"
   ]
  },
  {
   "cell_type": "markdown",
   "metadata": {},
   "source": [
    "## Parte 2 - Data Science"
   ]
  },
  {
   "cell_type": "markdown",
   "metadata": {},
   "source": [
    "1. Utilizar el clasificador proporcionado, pasar como parámetro el dataframe con la columna domain_tld, y asignar el resultado a un nuevo DF."
   ]
  },
  {
   "cell_type": "code",
   "execution_count": 22,
   "metadata": {},
   "outputs": [],
   "source": [
    "import clasificador"
   ]
  },
  {
   "cell_type": "code",
   "execution_count": 23,
   "metadata": {},
   "outputs": [],
   "source": [
    "new = clasificador.clasificacion(clean)"
   ]
  },
  {
   "cell_type": "code",
   "execution_count": 24,
   "metadata": {},
   "outputs": [
    {
     "data": {
      "text/html": [
       "<div>\n",
       "<style scoped>\n",
       "    .dataframe tbody tr th:only-of-type {\n",
       "        vertical-align: middle;\n",
       "    }\n",
       "\n",
       "    .dataframe tbody tr th {\n",
       "        vertical-align: top;\n",
       "    }\n",
       "\n",
       "    .dataframe thead th {\n",
       "        text-align: right;\n",
       "    }\n",
       "</style>\n",
       "<table border=\"1\" class=\"dataframe\">\n",
       "  <thead>\n",
       "    <tr style=\"text-align: right;\">\n",
       "      <th></th>\n",
       "      <th>domain_tld</th>\n",
       "      <th>isDGA</th>\n",
       "    </tr>\n",
       "  </thead>\n",
       "  <tbody>\n",
       "    <tr>\n",
       "      <th>0</th>\n",
       "      <td>wunderground.com</td>\n",
       "      <td>0</td>\n",
       "    </tr>\n",
       "    <tr>\n",
       "      <th>1</th>\n",
       "      <td>dropbox.com</td>\n",
       "      <td>1</td>\n",
       "    </tr>\n",
       "    <tr>\n",
       "      <th>2</th>\n",
       "      <td>aoltw.net</td>\n",
       "      <td>1</td>\n",
       "    </tr>\n",
       "    <tr>\n",
       "      <th>3</th>\n",
       "      <td>safebrowsing.clients.google.com.home</td>\n",
       "      <td>0</td>\n",
       "    </tr>\n",
       "    <tr>\n",
       "      <th>4</th>\n",
       "      <td>mozilla.com</td>\n",
       "      <td>0</td>\n",
       "    </tr>\n",
       "    <tr>\n",
       "      <th>...</th>\n",
       "      <td>...</td>\n",
       "      <td>...</td>\n",
       "    </tr>\n",
       "    <tr>\n",
       "      <th>166</th>\n",
       "      <td>192.168.21-28.0</td>\n",
       "      <td>1</td>\n",
       "    </tr>\n",
       "    <tr>\n",
       "      <th>167</th>\n",
       "      <td>ejfodfmfxlkgifuf.xyz</td>\n",
       "      <td>1</td>\n",
       "    </tr>\n",
       "    <tr>\n",
       "      <th>172</th>\n",
       "      <td>ntp.ubuntu.com.localdomain</td>\n",
       "      <td>1</td>\n",
       "    </tr>\n",
       "    <tr>\n",
       "      <th>174</th>\n",
       "      <td>verisign.com</td>\n",
       "      <td>0</td>\n",
       "    </tr>\n",
       "    <tr>\n",
       "      <th>176</th>\n",
       "      <td>real.com</td>\n",
       "      <td>1</td>\n",
       "    </tr>\n",
       "  </tbody>\n",
       "</table>\n",
       "<p>102 rows × 2 columns</p>\n",
       "</div>"
      ],
      "text/plain": [
       "                               domain_tld  isDGA\n",
       "0                        wunderground.com      0\n",
       "1                             dropbox.com      1\n",
       "2                               aoltw.net      1\n",
       "3    safebrowsing.clients.google.com.home      0\n",
       "4                             mozilla.com      0\n",
       "..                                    ...    ...\n",
       "166                       192.168.21-28.0      1\n",
       "167                  ejfodfmfxlkgifuf.xyz      1\n",
       "172            ntp.ubuntu.com.localdomain      1\n",
       "174                          verisign.com      0\n",
       "176                              real.com      1\n",
       "\n",
       "[102 rows x 2 columns]"
      ]
     },
     "execution_count": 24,
     "metadata": {},
     "output_type": "execute_result"
    }
   ],
   "source": [
    "new"
   ]
  },
  {
   "cell_type": "markdown",
   "metadata": {},
   "source": [
    "2. Filtrar aquellos considerados como DGA (valor 1 ) y mostrarlos. Recuerde que los modelos de ML ofrecen una predicción, pero los resultados pueden ser falsos positivos y falsos negativos, por lo que no podemos fiarnos por completo de esta clasificación y debemos seguir indagando. Ahora tenemos solo 35 dominios sospechosos."
   ]
  },
  {
   "cell_type": "code",
   "execution_count": 66,
   "metadata": {},
   "outputs": [],
   "source": [
    "df_DGA = new_df[(new['isDGA'] == 1)]"
   ]
  },
  {
   "cell_type": "code",
   "execution_count": 67,
   "metadata": {},
   "outputs": [
    {
     "name": "stdout",
     "output_type": "stream",
     "text": [
      "DGA:  35\n"
     ]
    }
   ],
   "source": [
    "print(\"DGA: \", len(df_DGA))"
   ]
  },
  {
   "cell_type": "markdown",
   "metadata": {},
   "source": [
    "## Parte 3 - Dominio experto"
   ]
  },
  {
   "cell_type": "markdown",
   "metadata": {},
   "source": [
    "1. Ya se cuenta con un listado de dominios reducido y considerados como sospechosos, entonces se aplica el dominio experto para encontrar los verdaderos registros malicioso. Utilizando la lista de Cisco Umbrella incluido en Flare, indicar si los dominios encontrados por el clasificador DGA de la parte 2 se encuentran en este top 1000000. Deberíamos haber reducido los registros a 12."
   ]
  },
  {
   "cell_type": "code",
   "execution_count": 28,
   "metadata": {},
   "outputs": [],
   "source": [
    "umbrella = pd.read_csv(\"./flare/data/umbrella/top-1m.csv\")\n"
   ]
  },
  {
   "cell_type": "code",
   "execution_count": 32,
   "metadata": {},
   "outputs": [
    {
     "data": {
      "text/html": [
       "<div>\n",
       "<style scoped>\n",
       "    .dataframe tbody tr th:only-of-type {\n",
       "        vertical-align: middle;\n",
       "    }\n",
       "\n",
       "    .dataframe tbody tr th {\n",
       "        vertical-align: top;\n",
       "    }\n",
       "\n",
       "    .dataframe thead th {\n",
       "        text-align: right;\n",
       "    }\n",
       "</style>\n",
       "<table border=\"1\" class=\"dataframe\">\n",
       "  <thead>\n",
       "    <tr style=\"text-align: right;\">\n",
       "      <th></th>\n",
       "      <th>1</th>\n",
       "      <th>netflix.com</th>\n",
       "    </tr>\n",
       "  </thead>\n",
       "  <tbody>\n",
       "    <tr>\n",
       "      <th>0</th>\n",
       "      <td>2</td>\n",
       "      <td>api-global.netflix.com</td>\n",
       "    </tr>\n",
       "    <tr>\n",
       "      <th>1</th>\n",
       "      <td>3</td>\n",
       "      <td>prod.netflix.com</td>\n",
       "    </tr>\n",
       "    <tr>\n",
       "      <th>2</th>\n",
       "      <td>4</td>\n",
       "      <td>push.prod.netflix.com</td>\n",
       "    </tr>\n",
       "    <tr>\n",
       "      <th>3</th>\n",
       "      <td>5</td>\n",
       "      <td>google.com</td>\n",
       "    </tr>\n",
       "    <tr>\n",
       "      <th>4</th>\n",
       "      <td>6</td>\n",
       "      <td>microsoft.com</td>\n",
       "    </tr>\n",
       "    <tr>\n",
       "      <th>...</th>\n",
       "      <td>...</td>\n",
       "      <td>...</td>\n",
       "    </tr>\n",
       "    <tr>\n",
       "      <th>999994</th>\n",
       "      <td>999996</td>\n",
       "      <td>taipei-a1.gp.schneider-electric.com</td>\n",
       "    </tr>\n",
       "    <tr>\n",
       "      <th>999995</th>\n",
       "      <td>999997</td>\n",
       "      <td>taiwantoday.tw</td>\n",
       "    </tr>\n",
       "    <tr>\n",
       "      <th>999996</th>\n",
       "      <td>999998</td>\n",
       "      <td>takethebestpics.com</td>\n",
       "    </tr>\n",
       "    <tr>\n",
       "      <th>999997</th>\n",
       "      <td>999999</td>\n",
       "      <td>takiedela.ru</td>\n",
       "    </tr>\n",
       "    <tr>\n",
       "      <th>999998</th>\n",
       "      <td>1000000</td>\n",
       "      <td>talcottresolution.com</td>\n",
       "    </tr>\n",
       "  </tbody>\n",
       "</table>\n",
       "<p>999999 rows × 2 columns</p>\n",
       "</div>"
      ],
      "text/plain": [
       "              1                          netflix.com\n",
       "0             2               api-global.netflix.com\n",
       "1             3                     prod.netflix.com\n",
       "2             4                push.prod.netflix.com\n",
       "3             5                           google.com\n",
       "4             6                        microsoft.com\n",
       "...         ...                                  ...\n",
       "999994   999996  taipei-a1.gp.schneider-electric.com\n",
       "999995   999997                       taiwantoday.tw\n",
       "999996   999998                  takethebestpics.com\n",
       "999997   999999                         takiedela.ru\n",
       "999998  1000000                talcottresolution.com\n",
       "\n",
       "[999999 rows x 2 columns]"
      ]
     },
     "execution_count": 32,
     "metadata": {},
     "output_type": "execute_result"
    }
   ],
   "source": [
    "umbrella"
   ]
  },
  {
   "cell_type": "code",
   "execution_count": 68,
   "metadata": {},
   "outputs": [
    {
     "name": "stderr",
     "output_type": "stream",
     "text": [
      "/var/folders/7v/q__s863s77v1wy7dl0jwhcd00000gn/T/ipykernel_20008/3189910155.py:1: SettingWithCopyWarning: \n",
      "A value is trying to be set on a copy of a slice from a DataFrame.\n",
      "Try using .loc[row_indexer,col_indexer] = value instead\n",
      "\n",
      "See the caveats in the documentation: https://pandas.pydata.org/pandas-docs/stable/user_guide/indexing.html#returning-a-view-versus-a-copy\n",
      "  df_DGA['umbrella_match'] = df_DGA['domain_tld'].isin(df_umbrella['netflix.com'])\n"
     ]
    }
   ],
   "source": [
    "df_DGA['umbrella_match'] = df_DGA['domain_tld'].isin(umbrella['netflix.com'])"
   ]
  },
  {
   "cell_type": "code",
   "execution_count": 81,
   "metadata": {},
   "outputs": [
    {
     "data": {
      "text/html": [
       "<div>\n",
       "<style scoped>\n",
       "    .dataframe tbody tr th:only-of-type {\n",
       "        vertical-align: middle;\n",
       "    }\n",
       "\n",
       "    .dataframe tbody tr th {\n",
       "        vertical-align: top;\n",
       "    }\n",
       "\n",
       "    .dataframe thead th {\n",
       "        text-align: right;\n",
       "    }\n",
       "</style>\n",
       "<table border=\"1\" class=\"dataframe\">\n",
       "  <thead>\n",
       "    <tr style=\"text-align: right;\">\n",
       "      <th></th>\n",
       "      <th>domain_tld</th>\n",
       "      <th>isDGA</th>\n",
       "      <th>umbrella_match</th>\n",
       "    </tr>\n",
       "  </thead>\n",
       "  <tbody>\n",
       "    <tr>\n",
       "      <th>1</th>\n",
       "      <td>dropbox.com</td>\n",
       "      <td>1</td>\n",
       "      <td>True</td>\n",
       "    </tr>\n",
       "    <tr>\n",
       "      <th>2</th>\n",
       "      <td>aoltw.net</td>\n",
       "      <td>1</td>\n",
       "      <td>False</td>\n",
       "    </tr>\n",
       "    <tr>\n",
       "      <th>5</th>\n",
       "      <td>metasploit.com</td>\n",
       "      <td>1</td>\n",
       "      <td>True</td>\n",
       "    </tr>\n",
       "    <tr>\n",
       "      <th>25</th>\n",
       "      <td>windows.com</td>\n",
       "      <td>1</td>\n",
       "      <td>True</td>\n",
       "    </tr>\n",
       "    <tr>\n",
       "      <th>27</th>\n",
       "      <td>ntkrnlpa.info</td>\n",
       "      <td>1</td>\n",
       "      <td>False</td>\n",
       "    </tr>\n",
       "    <tr>\n",
       "      <th>34</th>\n",
       "      <td>sql-ledger.org</td>\n",
       "      <td>1</td>\n",
       "      <td>False</td>\n",
       "    </tr>\n",
       "    <tr>\n",
       "      <th>35</th>\n",
       "      <td>backtrack-linux.org</td>\n",
       "      <td>1</td>\n",
       "      <td>True</td>\n",
       "    </tr>\n",
       "    <tr>\n",
       "      <th>48</th>\n",
       "      <td>phpmyadmin.net</td>\n",
       "      <td>1</td>\n",
       "      <td>True</td>\n",
       "    </tr>\n",
       "    <tr>\n",
       "      <th>51</th>\n",
       "      <td>microsoft.com</td>\n",
       "      <td>1</td>\n",
       "      <td>True</td>\n",
       "    </tr>\n",
       "    <tr>\n",
       "      <th>60</th>\n",
       "      <td>postgresql.org</td>\n",
       "      <td>1</td>\n",
       "      <td>True</td>\n",
       "    </tr>\n",
       "    <tr>\n",
       "      <th>62</th>\n",
       "      <td>freepbx.org</td>\n",
       "      <td>1</td>\n",
       "      <td>True</td>\n",
       "    </tr>\n",
       "    <tr>\n",
       "      <th>64</th>\n",
       "      <td>bigflickrfeed.com</td>\n",
       "      <td>1</td>\n",
       "      <td>False</td>\n",
       "    </tr>\n",
       "    <tr>\n",
       "      <th>78</th>\n",
       "      <td>flickr.com</td>\n",
       "      <td>1</td>\n",
       "      <td>True</td>\n",
       "    </tr>\n",
       "    <tr>\n",
       "      <th>82</th>\n",
       "      <td>malwarecity.com</td>\n",
       "      <td>1</td>\n",
       "      <td>False</td>\n",
       "    </tr>\n",
       "    <tr>\n",
       "      <th>83</th>\n",
       "      <td>facebook.com</td>\n",
       "      <td>1</td>\n",
       "      <td>True</td>\n",
       "    </tr>\n",
       "    <tr>\n",
       "      <th>87</th>\n",
       "      <td>xmarks.com</td>\n",
       "      <td>1</td>\n",
       "      <td>True</td>\n",
       "    </tr>\n",
       "    <tr>\n",
       "      <th>89</th>\n",
       "      <td>cakephp.org</td>\n",
       "      <td>1</td>\n",
       "      <td>True</td>\n",
       "    </tr>\n",
       "    <tr>\n",
       "      <th>92</th>\n",
       "      <td>adams.net</td>\n",
       "      <td>1</td>\n",
       "      <td>True</td>\n",
       "    </tr>\n",
       "    <tr>\n",
       "      <th>95</th>\n",
       "      <td>clarkson.edu</td>\n",
       "      <td>1</td>\n",
       "      <td>True</td>\n",
       "    </tr>\n",
       "    <tr>\n",
       "      <th>97</th>\n",
       "      <td>ecvps.com</td>\n",
       "      <td>1</td>\n",
       "      <td>False</td>\n",
       "    </tr>\n",
       "    <tr>\n",
       "      <th>98</th>\n",
       "      <td>wisc.edu</td>\n",
       "      <td>1</td>\n",
       "      <td>True</td>\n",
       "    </tr>\n",
       "    <tr>\n",
       "      <th>100</th>\n",
       "      <td>easynews.com</td>\n",
       "      <td>1</td>\n",
       "      <td>True</td>\n",
       "    </tr>\n",
       "    <tr>\n",
       "      <th>101</th>\n",
       "      <td>bluehost.com</td>\n",
       "      <td>1</td>\n",
       "      <td>True</td>\n",
       "    </tr>\n",
       "    <tr>\n",
       "      <th>106</th>\n",
       "      <td>kernel.org</td>\n",
       "      <td>1</td>\n",
       "      <td>True</td>\n",
       "    </tr>\n",
       "    <tr>\n",
       "      <th>108</th>\n",
       "      <td>liquidweb.com</td>\n",
       "      <td>1</td>\n",
       "      <td>True</td>\n",
       "    </tr>\n",
       "    <tr>\n",
       "      <th>114</th>\n",
       "      <td>team-cymru.org</td>\n",
       "      <td>1</td>\n",
       "      <td>True</td>\n",
       "    </tr>\n",
       "    <tr>\n",
       "      <th>117</th>\n",
       "      <td>xmission.com</td>\n",
       "      <td>1</td>\n",
       "      <td>True</td>\n",
       "    </tr>\n",
       "    <tr>\n",
       "      <th>127</th>\n",
       "      <td>apple.com</td>\n",
       "      <td>1</td>\n",
       "      <td>True</td>\n",
       "    </tr>\n",
       "    <tr>\n",
       "      <th>144</th>\n",
       "      <td>msftncsi.com</td>\n",
       "      <td>1</td>\n",
       "      <td>True</td>\n",
       "    </tr>\n",
       "    <tr>\n",
       "      <th>160</th>\n",
       "      <td>vtlfccmfxlkgifuf.com</td>\n",
       "      <td>1</td>\n",
       "      <td>False</td>\n",
       "    </tr>\n",
       "    <tr>\n",
       "      <th>162</th>\n",
       "      <td>macromates.com</td>\n",
       "      <td>1</td>\n",
       "      <td>True</td>\n",
       "    </tr>\n",
       "    <tr>\n",
       "      <th>166</th>\n",
       "      <td>192.168.21-28.0</td>\n",
       "      <td>1</td>\n",
       "      <td>False</td>\n",
       "    </tr>\n",
       "    <tr>\n",
       "      <th>167</th>\n",
       "      <td>ejfodfmfxlkgifuf.xyz</td>\n",
       "      <td>1</td>\n",
       "      <td>False</td>\n",
       "    </tr>\n",
       "    <tr>\n",
       "      <th>172</th>\n",
       "      <td>ntp.ubuntu.com.localdomain</td>\n",
       "      <td>1</td>\n",
       "      <td>False</td>\n",
       "    </tr>\n",
       "    <tr>\n",
       "      <th>176</th>\n",
       "      <td>real.com</td>\n",
       "      <td>1</td>\n",
       "      <td>True</td>\n",
       "    </tr>\n",
       "  </tbody>\n",
       "</table>\n",
       "</div>"
      ],
      "text/plain": [
       "                     domain_tld  isDGA  umbrella_match\n",
       "1                   dropbox.com      1            True\n",
       "2                     aoltw.net      1           False\n",
       "5                metasploit.com      1            True\n",
       "25                  windows.com      1            True\n",
       "27                ntkrnlpa.info      1           False\n",
       "34               sql-ledger.org      1           False\n",
       "35          backtrack-linux.org      1            True\n",
       "48               phpmyadmin.net      1            True\n",
       "51                microsoft.com      1            True\n",
       "60               postgresql.org      1            True\n",
       "62                  freepbx.org      1            True\n",
       "64            bigflickrfeed.com      1           False\n",
       "78                   flickr.com      1            True\n",
       "82              malwarecity.com      1           False\n",
       "83                 facebook.com      1            True\n",
       "87                   xmarks.com      1            True\n",
       "89                  cakephp.org      1            True\n",
       "92                    adams.net      1            True\n",
       "95                 clarkson.edu      1            True\n",
       "97                    ecvps.com      1           False\n",
       "98                     wisc.edu      1            True\n",
       "100                easynews.com      1            True\n",
       "101                bluehost.com      1            True\n",
       "106                  kernel.org      1            True\n",
       "108               liquidweb.com      1            True\n",
       "114              team-cymru.org      1            True\n",
       "117                xmission.com      1            True\n",
       "127                   apple.com      1            True\n",
       "144                msftncsi.com      1            True\n",
       "160        vtlfccmfxlkgifuf.com      1           False\n",
       "162              macromates.com      1            True\n",
       "166             192.168.21-28.0      1           False\n",
       "167        ejfodfmfxlkgifuf.xyz      1           False\n",
       "172  ntp.ubuntu.com.localdomain      1           False\n",
       "176                    real.com      1            True"
      ]
     },
     "execution_count": 81,
     "metadata": {},
     "output_type": "execute_result"
    }
   ],
   "source": [
    "df_DGA"
   ]
  },
  {
   "cell_type": "code",
   "execution_count": 112,
   "metadata": {},
   "outputs": [],
   "source": [
    "new_df_DGA = df_DGA[(df_DGA['umbrella_match'] == True)]"
   ]
  },
  {
   "cell_type": "code",
   "execution_count": 108,
   "metadata": {},
   "outputs": [
    {
     "name": "stdout",
     "output_type": "stream",
     "text": [
      "DGA:  25\n"
     ]
    }
   ],
   "source": [
    "print(\"DGA: \", len(new_df_DGA))"
   ]
  },
  {
   "cell_type": "markdown",
   "metadata": {},
   "source": [
    "2. Si son considerados por el clasificador como DGA, y no están en el top de Cisco Umbrella, es muy probable que sean maliciosos. Para confirmar esto podemos buscar la fecha de creación del dominio. Crear una función que en base al dominio, devuelva la fecha de creación de este (utilizar la librería whois para esto)."
   ]
  },
  {
   "cell_type": "code",
   "execution_count": 49,
   "metadata": {},
   "outputs": [],
   "source": [
    "import whois"
   ]
  },
  {
   "cell_type": "code",
   "execution_count": 98,
   "metadata": {},
   "outputs": [
    {
     "data": {
      "text/plain": [
       "datetime.datetime(1995, 6, 28, 4, 0)"
      ]
     },
     "execution_count": 98,
     "metadata": {},
     "output_type": "execute_result"
    }
   ],
   "source": [
    "whois.whois(new_df_DGA['domain_tld'][1]).creation_date"
   ]
  },
  {
   "cell_type": "code",
   "execution_count": 128,
   "metadata": {},
   "outputs": [
    {
     "name": "stderr",
     "output_type": "stream",
     "text": [
      "/var/folders/7v/q__s863s77v1wy7dl0jwhcd00000gn/T/ipykernel_20008/2004958218.py:2: SettingWithCopyWarning: \n",
      "A value is trying to be set on a copy of a slice from a DataFrame.\n",
      "Try using .loc[row_indexer,col_indexer] = value instead\n",
      "\n",
      "See the caveats in the documentation: https://pandas.pydata.org/pandas-docs/stable/user_guide/indexing.html#returning-a-view-versus-a-copy\n",
      "  new_df_DGA['creation_date'] = pd.Series(whois.whois(i).creation_date)\n",
      "/var/folders/7v/q__s863s77v1wy7dl0jwhcd00000gn/T/ipykernel_20008/2004958218.py:2: FutureWarning: The default dtype for empty Series will be 'object' instead of 'float64' in a future version. Specify a dtype explicitly to silence this warning.\n",
      "  new_df_DGA['creation_date'] = pd.Series(whois.whois(i).creation_date)\n",
      "/var/folders/7v/q__s863s77v1wy7dl0jwhcd00000gn/T/ipykernel_20008/2004958218.py:2: SettingWithCopyWarning: \n",
      "A value is trying to be set on a copy of a slice from a DataFrame.\n",
      "Try using .loc[row_indexer,col_indexer] = value instead\n",
      "\n",
      "See the caveats in the documentation: https://pandas.pydata.org/pandas-docs/stable/user_guide/indexing.html#returning-a-view-versus-a-copy\n",
      "  new_df_DGA['creation_date'] = pd.Series(whois.whois(i).creation_date)\n",
      "/var/folders/7v/q__s863s77v1wy7dl0jwhcd00000gn/T/ipykernel_20008/2004958218.py:2: FutureWarning: The default dtype for empty Series will be 'object' instead of 'float64' in a future version. Specify a dtype explicitly to silence this warning.\n",
      "  new_df_DGA['creation_date'] = pd.Series(whois.whois(i).creation_date)\n",
      "/var/folders/7v/q__s863s77v1wy7dl0jwhcd00000gn/T/ipykernel_20008/2004958218.py:2: SettingWithCopyWarning: \n",
      "A value is trying to be set on a copy of a slice from a DataFrame.\n",
      "Try using .loc[row_indexer,col_indexer] = value instead\n",
      "\n",
      "See the caveats in the documentation: https://pandas.pydata.org/pandas-docs/stable/user_guide/indexing.html#returning-a-view-versus-a-copy\n",
      "  new_df_DGA['creation_date'] = pd.Series(whois.whois(i).creation_date)\n"
     ]
    }
   ],
   "source": [
    "\n",
    "for i in new_df_DGA['domain_tld']:\n",
    "    new_df_DGA['creation_date'] = pd.Series(whois.whois(i).creation_date)\n",
    "\n",
    "\n",
    "# new_df_DGA.drop('creation_date', axis=1, inplace=True)\n",
    "\n"
   ]
  },
  {
   "cell_type": "code",
   "execution_count": 129,
   "metadata": {},
   "outputs": [
    {
     "data": {
      "text/html": [
       "<div>\n",
       "<style scoped>\n",
       "    .dataframe tbody tr th:only-of-type {\n",
       "        vertical-align: middle;\n",
       "    }\n",
       "\n",
       "    .dataframe tbody tr th {\n",
       "        vertical-align: top;\n",
       "    }\n",
       "\n",
       "    .dataframe thead th {\n",
       "        text-align: right;\n",
       "    }\n",
       "</style>\n",
       "<table border=\"1\" class=\"dataframe\">\n",
       "  <thead>\n",
       "    <tr style=\"text-align: right;\">\n",
       "      <th></th>\n",
       "      <th>domain_tld</th>\n",
       "      <th>isDGA</th>\n",
       "      <th>umbrella_match</th>\n",
       "      <th>creation_date</th>\n",
       "    </tr>\n",
       "  </thead>\n",
       "  <tbody>\n",
       "    <tr>\n",
       "      <th>1</th>\n",
       "      <td>dropbox.com</td>\n",
       "      <td>1</td>\n",
       "      <td>True</td>\n",
       "      <td>1996-12-24</td>\n",
       "    </tr>\n",
       "    <tr>\n",
       "      <th>5</th>\n",
       "      <td>metasploit.com</td>\n",
       "      <td>1</td>\n",
       "      <td>True</td>\n",
       "      <td>NaT</td>\n",
       "    </tr>\n",
       "    <tr>\n",
       "      <th>25</th>\n",
       "      <td>windows.com</td>\n",
       "      <td>1</td>\n",
       "      <td>True</td>\n",
       "      <td>NaT</td>\n",
       "    </tr>\n",
       "    <tr>\n",
       "      <th>35</th>\n",
       "      <td>backtrack-linux.org</td>\n",
       "      <td>1</td>\n",
       "      <td>True</td>\n",
       "      <td>NaT</td>\n",
       "    </tr>\n",
       "    <tr>\n",
       "      <th>48</th>\n",
       "      <td>phpmyadmin.net</td>\n",
       "      <td>1</td>\n",
       "      <td>True</td>\n",
       "      <td>NaT</td>\n",
       "    </tr>\n",
       "    <tr>\n",
       "      <th>51</th>\n",
       "      <td>microsoft.com</td>\n",
       "      <td>1</td>\n",
       "      <td>True</td>\n",
       "      <td>NaT</td>\n",
       "    </tr>\n",
       "    <tr>\n",
       "      <th>60</th>\n",
       "      <td>postgresql.org</td>\n",
       "      <td>1</td>\n",
       "      <td>True</td>\n",
       "      <td>NaT</td>\n",
       "    </tr>\n",
       "    <tr>\n",
       "      <th>62</th>\n",
       "      <td>freepbx.org</td>\n",
       "      <td>1</td>\n",
       "      <td>True</td>\n",
       "      <td>NaT</td>\n",
       "    </tr>\n",
       "    <tr>\n",
       "      <th>78</th>\n",
       "      <td>flickr.com</td>\n",
       "      <td>1</td>\n",
       "      <td>True</td>\n",
       "      <td>NaT</td>\n",
       "    </tr>\n",
       "    <tr>\n",
       "      <th>83</th>\n",
       "      <td>facebook.com</td>\n",
       "      <td>1</td>\n",
       "      <td>True</td>\n",
       "      <td>NaT</td>\n",
       "    </tr>\n",
       "    <tr>\n",
       "      <th>87</th>\n",
       "      <td>xmarks.com</td>\n",
       "      <td>1</td>\n",
       "      <td>True</td>\n",
       "      <td>NaT</td>\n",
       "    </tr>\n",
       "    <tr>\n",
       "      <th>89</th>\n",
       "      <td>cakephp.org</td>\n",
       "      <td>1</td>\n",
       "      <td>True</td>\n",
       "      <td>NaT</td>\n",
       "    </tr>\n",
       "    <tr>\n",
       "      <th>92</th>\n",
       "      <td>adams.net</td>\n",
       "      <td>1</td>\n",
       "      <td>True</td>\n",
       "      <td>NaT</td>\n",
       "    </tr>\n",
       "    <tr>\n",
       "      <th>95</th>\n",
       "      <td>clarkson.edu</td>\n",
       "      <td>1</td>\n",
       "      <td>True</td>\n",
       "      <td>NaT</td>\n",
       "    </tr>\n",
       "    <tr>\n",
       "      <th>98</th>\n",
       "      <td>wisc.edu</td>\n",
       "      <td>1</td>\n",
       "      <td>True</td>\n",
       "      <td>NaT</td>\n",
       "    </tr>\n",
       "    <tr>\n",
       "      <th>100</th>\n",
       "      <td>easynews.com</td>\n",
       "      <td>1</td>\n",
       "      <td>True</td>\n",
       "      <td>NaT</td>\n",
       "    </tr>\n",
       "    <tr>\n",
       "      <th>101</th>\n",
       "      <td>bluehost.com</td>\n",
       "      <td>1</td>\n",
       "      <td>True</td>\n",
       "      <td>NaT</td>\n",
       "    </tr>\n",
       "    <tr>\n",
       "      <th>106</th>\n",
       "      <td>kernel.org</td>\n",
       "      <td>1</td>\n",
       "      <td>True</td>\n",
       "      <td>NaT</td>\n",
       "    </tr>\n",
       "    <tr>\n",
       "      <th>108</th>\n",
       "      <td>liquidweb.com</td>\n",
       "      <td>1</td>\n",
       "      <td>True</td>\n",
       "      <td>NaT</td>\n",
       "    </tr>\n",
       "    <tr>\n",
       "      <th>114</th>\n",
       "      <td>team-cymru.org</td>\n",
       "      <td>1</td>\n",
       "      <td>True</td>\n",
       "      <td>NaT</td>\n",
       "    </tr>\n",
       "    <tr>\n",
       "      <th>117</th>\n",
       "      <td>xmission.com</td>\n",
       "      <td>1</td>\n",
       "      <td>True</td>\n",
       "      <td>NaT</td>\n",
       "    </tr>\n",
       "    <tr>\n",
       "      <th>127</th>\n",
       "      <td>apple.com</td>\n",
       "      <td>1</td>\n",
       "      <td>True</td>\n",
       "      <td>NaT</td>\n",
       "    </tr>\n",
       "    <tr>\n",
       "      <th>144</th>\n",
       "      <td>msftncsi.com</td>\n",
       "      <td>1</td>\n",
       "      <td>True</td>\n",
       "      <td>NaT</td>\n",
       "    </tr>\n",
       "    <tr>\n",
       "      <th>162</th>\n",
       "      <td>macromates.com</td>\n",
       "      <td>1</td>\n",
       "      <td>True</td>\n",
       "      <td>NaT</td>\n",
       "    </tr>\n",
       "    <tr>\n",
       "      <th>176</th>\n",
       "      <td>real.com</td>\n",
       "      <td>1</td>\n",
       "      <td>True</td>\n",
       "      <td>NaT</td>\n",
       "    </tr>\n",
       "  </tbody>\n",
       "</table>\n",
       "</div>"
      ],
      "text/plain": [
       "              domain_tld  isDGA  umbrella_match creation_date\n",
       "1            dropbox.com      1            True    1996-12-24\n",
       "5         metasploit.com      1            True           NaT\n",
       "25           windows.com      1            True           NaT\n",
       "35   backtrack-linux.org      1            True           NaT\n",
       "48        phpmyadmin.net      1            True           NaT\n",
       "51         microsoft.com      1            True           NaT\n",
       "60        postgresql.org      1            True           NaT\n",
       "62           freepbx.org      1            True           NaT\n",
       "78            flickr.com      1            True           NaT\n",
       "83          facebook.com      1            True           NaT\n",
       "87            xmarks.com      1            True           NaT\n",
       "89           cakephp.org      1            True           NaT\n",
       "92             adams.net      1            True           NaT\n",
       "95          clarkson.edu      1            True           NaT\n",
       "98              wisc.edu      1            True           NaT\n",
       "100         easynews.com      1            True           NaT\n",
       "101         bluehost.com      1            True           NaT\n",
       "106           kernel.org      1            True           NaT\n",
       "108        liquidweb.com      1            True           NaT\n",
       "114       team-cymru.org      1            True           NaT\n",
       "117         xmission.com      1            True           NaT\n",
       "127            apple.com      1            True           NaT\n",
       "144         msftncsi.com      1            True           NaT\n",
       "162       macromates.com      1            True           NaT\n",
       "176             real.com      1            True           NaT"
      ]
     },
     "execution_count": 129,
     "metadata": {},
     "output_type": "execute_result"
    }
   ],
   "source": [
    "new_df_DGA"
   ]
  },
  {
   "cell_type": "markdown",
   "metadata": {},
   "source": [
    "3. Mostrar la fecha de creación para cada uno de los dominios clasificados como DGA. ¿Cuáles son los dominios que podemos confirmar como sospechosos? (Deben ser cinco dominios)"
   ]
  },
  {
   "cell_type": "code",
   "execution_count": null,
   "metadata": {},
   "outputs": [],
   "source": []
  },
  {
   "cell_type": "markdown",
   "metadata": {},
   "source": [
    "4. Los dominios DGA son conocidos por formarse de forma aleatoria: secuencias aleatorias de\n",
    "caracteres, no palabras. Indicar qué dominios sospechosos tienen este patrón y que pueden confirmarse como dominios DGA (deben ser dos)."
   ]
  },
  {
   "cell_type": "code",
   "execution_count": null,
   "metadata": {},
   "outputs": [],
   "source": []
  }
 ],
 "metadata": {
  "kernelspec": {
   "display_name": "Python 3.9.13 64-bit (microsoft store)",
   "language": "python",
   "name": "python3"
  },
  "language_info": {
   "codemirror_mode": {
    "name": "ipython",
    "version": 3
   },
   "file_extension": ".py",
   "mimetype": "text/x-python",
   "name": "python",
   "nbconvert_exporter": "python",
   "pygments_lexer": "ipython3",
   "version": "3.9.13"
  },
  "vscode": {
   "interpreter": {
    "hash": "3dadc849527a4aec36f10cf12ab16e397f51ce052a65e55d86d6340dc0079d49"
   }
  }
 },
 "nbformat": 4,
 "nbformat_minor": 2
}
